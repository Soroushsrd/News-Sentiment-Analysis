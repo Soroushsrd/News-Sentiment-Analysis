{
 "cells": [
  {
   "cell_type": "markdown",
   "source": [
    "# What is a LLM capable of ?\n",
    "Basically they are *\"... word generators\"*. So they can do any kind of question answering,\n",
    "summarization or entity extraction, (augmenting LLMs with connected APIs)\n"
   ],
   "metadata": {
    "collapsed": false
   }
  },
  {
   "cell_type": "markdown",
   "source": [
    "LLMS are distinguished by their *\"parameter size\"* (e.g. 10M parameters or 2B parameters)\n",
    "\n",
    "- Larger LLMs: More conceptual understanding --> best for complicated and multipurpose usage\n",
    "- Smaller LLms: Less conceptual but faster --> best for focused tasks"
   ],
   "metadata": {
    "collapsed": false
   }
  },
  {
   "cell_type": "markdown",
   "source": [
    "Before the transformers (structures used in LLMs and ... Gen AI), we used RNNs.\n",
    "## What did we lack?\n",
    "- Memory: Longer sentences could not be analyzed\n",
    "- Multi-meaning words in sentences\n",
    "- Two/multiple sided sentences\n",
    "*We were able to solve these problems using Transformers*\n",
    "\n",
    "*Transformers* use self attention: a vector containing a selection of every word in a sentence (or even a whole text), called *Token Embedding Vector*"
   ],
   "metadata": {
    "collapsed": false
   }
  },
  {
   "cell_type": "markdown",
   "source": [
    "*Max input size of a LLM is based on the size of its embedding vector*\n",
    "\n",
    "### Transformer Architecture Schematic\n",
    "\n",
    "![Transformer Architecture](https://miro.medium.com/v2/resize:fit:612/1*R5WJ_nO0gKy2yk3HHGorhg.jpeg)"
   ],
   "metadata": {
    "collapsed": false
   }
  },
  {
   "cell_type": "markdown",
   "source": [],
   "metadata": {
    "collapsed": false
   }
  },
  {
   "cell_type": "code",
   "execution_count": null,
   "outputs": [],
   "source": [],
   "metadata": {
    "collapsed": false
   }
  },
  {
   "cell_type": "code",
   "execution_count": null,
   "outputs": [],
   "source": [],
   "metadata": {
    "collapsed": false
   }
  }
 ],
 "metadata": {
  "kernelspec": {
   "display_name": "Python 3",
   "language": "python",
   "name": "python3"
  },
  "language_info": {
   "codemirror_mode": {
    "name": "ipython",
    "version": 2
   },
   "file_extension": ".py",
   "mimetype": "text/x-python",
   "name": "python",
   "nbconvert_exporter": "python",
   "pygments_lexer": "ipython2",
   "version": "2.7.6"
  }
 },
 "nbformat": 4,
 "nbformat_minor": 0
}
